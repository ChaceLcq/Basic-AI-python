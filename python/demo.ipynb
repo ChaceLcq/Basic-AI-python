{
 "cells": [
  {
   "cell_type": "code",
   "execution_count": 5,
   "metadata": {},
   "outputs": [
    {
     "name": "stdout",
     "output_type": "stream",
     "text": [
      "Hello, World!\n"
     ]
    }
   ],
   "source": [
    "print(\"Hello, World!\")"
   ]
  },
  {
   "cell_type": "code",
   "execution_count": 6,
   "metadata": {},
   "outputs": [
    {
     "ename": "IndentationError",
     "evalue": "expected an indented block after 'if' statement on line 2 (228734666.py, line 3)",
     "output_type": "error",
     "traceback": [
      "\u001b[1;36m  Cell \u001b[1;32mIn[6], line 3\u001b[1;36m\u001b[0m\n\u001b[1;33m    print(\"Five is greater than two!\")\u001b[0m\n\u001b[1;37m    ^\u001b[0m\n\u001b[1;31mIndentationError\u001b[0m\u001b[1;31m:\u001b[0m expected an indented block after 'if' statement on line 2\n"
     ]
    }
   ],
   "source": [
    "# 省略缩进报错\n",
    "if 5 > 2:\n",
    "print(\"Five is greater than two!\")"
   ]
  },
  {
   "cell_type": "code",
   "execution_count": null,
   "metadata": {},
   "outputs": [
    {
     "name": "stdout",
     "output_type": "stream",
     "text": [
      "Five is greater than two!\n",
      "Five is greater than two!\n"
     ]
    }
   ],
   "source": [
    "# 缩进后正常运行（空格数取决于程序员，但至少需要一个，必须在同一代码块中使用相同数量的空格）\n",
    "if 5 > 2:\n",
    "    print(\"Five is greater than two!\") \n",
    "    print(\"Five is greater than two!\")"
   ]
  },
  {
   "cell_type": "code",
   "execution_count": null,
   "metadata": {},
   "outputs": [
    {
     "name": "stdout",
     "output_type": "stream",
     "text": [
      "Hello, World! 10\n",
      "20\n"
     ]
    }
   ],
   "source": [
    "# 变量声明\n",
    "x = 5\n",
    "z = 10\n",
    "\n",
    "# y = 'Hello, World!'等价\n",
    "y = \"Hello, World!\"\n",
    "\n",
    "#对X进行重定义\n",
    "x = 10\n",
    "print(y,x)\n",
    "print(x + z)"
   ]
  },
  {
   "cell_type": "code",
   "execution_count": null,
   "metadata": {},
   "outputs": [
    {
     "name": "stdout",
     "output_type": "stream",
     "text": [
      "1 code 5\n",
      "code is the foundation\n"
     ]
    }
   ],
   "source": [
    "#多变量定义\n",
    "x, y, z = 1, \"code\", 5\n",
    "print(x,y,z)\n",
    "print(y + \" is the foundation\")"
   ]
  },
  {
   "cell_type": "code",
   "execution_count": null,
   "metadata": {},
   "outputs": [
    {
     "data": {
      "text/plain": [
       "'\\n多行注释\\n多行注释\\n多行注释\\n'"
      ]
     },
     "execution_count": 12,
     "metadata": {},
     "output_type": "execute_result"
    }
   ],
   "source": [
    "#注释\n",
    "\n",
    "#单行注释\n",
    "\n",
    "\"\"\"\n",
    "多行注释\n",
    "多行注释\n",
    "多行注释\n",
    "\"\"\""
   ]
  },
  {
   "cell_type": "code",
   "execution_count": null,
   "metadata": {},
   "outputs": [
    {
     "name": "stdout",
     "output_type": "stream",
     "text": [
      "my python version is 3.1\n"
     ]
    }
   ],
   "source": [
    "# 全局变量\n",
    "x = 3.1\n",
    "def mypython():\n",
    "    print(\"my python version is \"+ str(x))\n",
    "\n",
    "mypython()"
   ]
  },
  {
   "cell_type": "code",
   "execution_count": null,
   "metadata": {},
   "outputs": [
    {
     "name": "stdout",
     "output_type": "stream",
     "text": [
      "my python version is 3.1\n",
      "3.1\n"
     ]
    }
   ],
   "source": [
    "# global 关键字\n",
    "# 要在函数内部创建或修改全局变量，可以使用 global 关键字\n",
    "x = 3\n",
    "def mypython():\n",
    "    global x\n",
    "    x = 3.1\n",
    "    print(\"my python version is \"+ str(x))\n",
    "\n",
    "mypython()\n",
    "\n",
    "print(x)"
   ]
  },
  {
   "cell_type": "code",
   "execution_count": null,
   "metadata": {},
   "outputs": [],
   "source": [
    "# 数据类型\n",
    "'''\n",
    "文本类型：\tstr\n",
    "数值类型：\tint, float, complex\n",
    "序列类型：\tlist, tuple, range\n",
    "映射类型：\tdict\n",
    "集合类型：\tset, frozenset\n",
    "布尔类型：\tbool\n",
    "二进制类型：\tbytes, bytearray, memoryview\n",
    "'''"
   ]
  },
  {
   "cell_type": "code",
   "execution_count": null,
   "metadata": {},
   "outputs": [
    {
     "name": "stdout",
     "output_type": "stream",
     "text": [
      "(1+6j)\n",
      "(6.3+0j)\n",
      "6\n"
     ]
    }
   ],
   "source": [
    "# 数值类型int, float, complex。整型和浮点数不做解释，介绍下复数。\n",
    "x = 10   # int\n",
    "y = 6.3  # float\n",
    "z = 2j   # complex，j为虚部\n",
    "\n",
    "z1 = 1 + 6j\n",
    "print(z1)\n",
    "\n",
    "# 类型转换\n",
    "print(complex(y))\n",
    "\n",
    "# 随机数\n",
    "# Python 没有 random() 函数来创建随机数，但 Python 有一个名为 random 的内置模块，可用于生成随机数：\n",
    "import random\n",
    "# 生成1-10的随机数\n",
    "print(random.randrange(1,10))"
   ]
  },
  {
   "cell_type": "code",
   "execution_count": null,
   "metadata": {},
   "outputs": [
    {
     "name": "stdout",
     "output_type": "stream",
     "text": [
      "(1-5j)\n"
     ]
    }
   ],
   "source": [
    "# 有时您可能需要为变量指定类型。这可以通过 casting 来完成。 Python 是一门面向对象的语言，因此它使用类来定义数据类型，包括其原始类型。\n",
    "# 创建复数对象\n",
    "x = complex(1 - 5j)\n",
    "print(x)"
   ]
  },
  {
   "cell_type": "code",
   "execution_count": null,
   "metadata": {},
   "outputs": [
    {
     "name": "stdout",
     "output_type": "stream",
     "text": [
      "e\n",
      "Hello\n",
      "orl\n",
      "13\n",
      "Hello, World!\n",
      "hello, world!\n",
      "HELLO, WORLD!\n",
      "Hello, Kitty!\n",
      "['Hello', ' World!']\n",
      "True\n",
      "Hello,world!\n",
      "I am 24\n",
      "I want 3 pieces of item 567 for 49.95 dollars.\n",
      "I want to pay 49.95 dollars for 3 pieces of item 567.\n"
     ]
    }
   ],
   "source": [
    "# 字符串是数组\n",
    "a = \"Hello, World!\"\n",
    "print(a[1])\n",
    "\n",
    "# 裁切(获取从位置 2 到位置 5（不包括）的字符)\n",
    "print(a[0:5])\n",
    "\n",
    "# 获取从位置 5 到位置 2 的字符，从字符串末尾开始计数\n",
    "print(a[-5:-2])\n",
    "\n",
    "# 字符串长度\n",
    "print(len(a))\n",
    "\n",
    "# 删除开头结尾的空格\n",
    "print(a.strip())\n",
    "\n",
    "# 返回小写字符串\n",
    "print(a.lower())\n",
    "# 返回大写字符串\n",
    "print(a.upper())\n",
    "\n",
    "# 用另一段字符串代替\n",
    "print(a.replace(\"World\", \"Kitty\"))\n",
    "\n",
    "# 找到分隔符后拆分字符串\n",
    "print(a.split(\",\"))\n",
    "\n",
    "# 检查字符串\n",
    "x = \"Hello\" in a\n",
    "print(x)\n",
    "\n",
    "# 字符串串联\n",
    "b = \"Hello,\"\n",
    "c = \"world!\"\n",
    "print(b+c)\n",
    "\n",
    "# 字符串格式,format()的使用\n",
    "age = 24\n",
    "txt = \"I am {}\"\n",
    "print(txt.format(age))\n",
    "\n",
    "# format参数不限，可以使用索引号占位\n",
    "quantity = 3\n",
    "itemno = 567\n",
    "price = 49.95\n",
    "myorder = \"I want {} pieces of item {} for {} dollars.\"\n",
    "print(myorder.format(quantity, itemno, price))\n",
    "\n",
    "# 索引号占位示例\n",
    "quantity = 3\n",
    "itemno = 567\n",
    "price = 49.95\n",
    "myorder = \"I want to pay {2} dollars for {0} pieces of item {1}.\"\n",
    "print(myorder.format(quantity, itemno, price))"
   ]
  },
  {
   "cell_type": "code",
   "execution_count": null,
   "metadata": {},
   "outputs": [
    {
     "name": "stdout",
     "output_type": "stream",
     "text": [
      "b is greater than a\n",
      "True\n"
     ]
    },
    {
     "data": {
      "text/plain": [
       "False"
      ]
     },
     "execution_count": 71,
     "metadata": {},
     "output_type": "execute_result"
    }
   ],
   "source": [
    "# Python 布尔\n",
    "# 通过判断作为if语句中的条件\n",
    "a,b = 3,5\n",
    "if b > a:\n",
    "  print(\"b is greater than a\")\n",
    "else:\n",
    "  print(\"b is not greater than a\")\n",
    "\n",
    "# 评估值，大多数值都为 True\n",
    "# 如果有某种内容，则几乎所有值都将评估为 True。\n",
    "# 除空字符串外，任何字符串均为 True。\n",
    "# 除 0 外，任何数字均为 True。\n",
    "# 除空列表外，任何列表、元组、集合和字典均为 True。\n",
    "print(bool(\"Hello\"))\n",
    "bool(False)"
   ]
  },
  {
   "cell_type": "code",
   "execution_count": null,
   "metadata": {},
   "outputs": [
    {
     "name": "stdout",
     "output_type": "stream",
     "text": [
      "125\n",
      "1\n",
      "6\n",
      "True\n",
      "0\n",
      "1\n",
      "True\n",
      "False\n",
      "True\n",
      "True\n",
      "True\n"
     ]
    }
   ],
   "source": [
    "# 运算符\n",
    " \n",
    "# 算数运算符，常用的不介绍\n",
    "# 幂 5的立方\n",
    "a = 5**3\n",
    "print(a)\n",
    "\n",
    "# 取整除，向下取整\n",
    "b = 5//3\n",
    "print(b)\n",
    "\n",
    "# 赋值运算符，基本和C一样,注意下异或、按位与或、逻辑位移运算\n",
    "# x = 0101(B)\n",
    "x = 5\n",
    "# 按位异或 x = x ^ 3, 3 = 0011(B),x ^ 3 = 0110(B) = 6\n",
    "x ^= 3\n",
    "print(x)\n",
    "\n",
    "# 比较运算符，基本同C\n",
    "print(5 >= 4)\n",
    "\n",
    "# 逻辑运算符，and、or、not\n",
    "print(1 and 0)\n",
    "# 短路\n",
    "print(1 or 0)\n",
    "print(not 0)\n",
    "\n",
    "# 身份运算符 is、is not\n",
    "xiaoming_age = 24\n",
    "xiaohong_age = 25\n",
    "print(xiaoming_age is xiaohong_age)\n",
    "print(xiaoming_age is not xiaohong_age)\n",
    "\n",
    "# 成员运算符 in、not in\n",
    "fruits = [\"apple\",\"watermelon\"]\n",
    "print(\"apple\" in fruits)\n",
    "print(\"rice\" not in fruits)"
   ]
  },
  {
   "cell_type": "code",
   "execution_count": null,
   "metadata": {},
   "outputs": [
    {
     "name": "stdout",
     "output_type": "stream",
     "text": [
      "['apple', 'banana', 'cherry']\n",
      "apple\n",
      "cherry\n",
      "['apple', 'banana']\n",
      "['watermelon', 'banana', 'cherry']\n",
      "watermelon\n",
      "banana\n",
      "cherry\n",
      "3\n",
      "['watermelon', 'banana', 'cherry', 'apple']\n",
      "['watermelon', 'banana', 'orange', 'cherry', 'apple']\n",
      "['watermelon', 'banana', 'cherry', 'apple']\n",
      "['banana', 'cherry', 'apple']\n",
      "['cherry', 'apple']\n",
      "[]\n",
      "[]\n",
      "[]\n",
      "['1', '2', '3']\n"
     ]
    }
   ],
   "source": [
    "# python 列表\n",
    "\n",
    "# 列表（List）是一种有序和可更改的集合。允许重复的成员。\n",
    "# 元组（Tuple）是一种有序且不可更改的集合。允许重复的成员。\n",
    "# 集合（Set）是一个无序和无索引的集合。没有重复的成员。\n",
    "# 词典（Dictionary）是一个无序，可变和有索引的集合。没有重复的成员。\n",
    "\n",
    "# 列表的初始化和访问\n",
    "thislist = [\"apple\", \"banana\", \"cherry\"]\n",
    "print(thislist)\n",
    "print(thislist[0])\n",
    "print(thislist[-1])\n",
    "print(thislist[0:2])\n",
    "# 重新修改初始化值\n",
    "thislist[0] = \"watermelon\"\n",
    "print(thislist)\n",
    "# 通过for循环打印\n",
    "for x in thislist:\n",
    "  print(x)\n",
    "# 列表长度\n",
    "print(len(thislist))\n",
    "# 添加项目到末尾，使用 append() 方法追加项目\n",
    "thislist.append(\"apple\")\n",
    "print(thislist)\n",
    "# 要在指定的索引处添加项目，使用 insert() 方法，在第二个位置加入orange\n",
    "thislist.insert(2,\"orange\")\n",
    "print(thislist)\n",
    "# remove() 方法删除指定的项目\n",
    "thislist.remove(\"orange\")\n",
    "print(thislist)\n",
    "# pop() 方法删除指定的索引（如果未指定索引，则删除最后一项）\n",
    "thislist.pop(0)\n",
    "print(thislist)\n",
    "# del 关键字删除指定的索引\n",
    "del thislist[0]\n",
    "print(thislist)\n",
    "# clear() 方法清空列表\n",
    "thislist.clear()\n",
    "#null\n",
    "print(thislist)\n",
    "# 删除整个列表\n",
    "# del thislist\n",
    "# 使用 copy() 方法来复制列表\n",
    "mylist = thislist.copy()\n",
    "print(mylist)\n",
    "# 另一种方法是使用内建的方法list()\n",
    "mylist = list(thislist)\n",
    "print(mylist)\n",
    "# list() 构造函数\n",
    "list1 = list((\"1\",\"2\",\"3\"))\n",
    "print(list1)"
   ]
  },
  {
   "cell_type": "code",
   "execution_count": null,
   "metadata": {},
   "outputs": [
    {
     "name": "stdout",
     "output_type": "stream",
     "text": [
      "('apple', 'banana', 'cherry')\n",
      "banana\n",
      "cherry\n",
      "('banana', 'cherry')\n"
     ]
    }
   ],
   "source": [
    "# 元组是有序且不可更改的集合。在 Python 中，元组是用圆括号编写的，其语法和列表类似\n",
    "thistuple = (\"apple\", \"banana\", \"cherry\")\n",
    "print(thistuple)\n",
    "# 访问第一个1号位元素\n",
    "print(thistuple[1])\n",
    "# 负索引\n",
    "print(thistuple[-1])\n",
    "# 范围索引\n",
    "print(thistuple[1:3])"
   ]
  },
  {
   "cell_type": "code",
   "execution_count": null,
   "metadata": {},
   "outputs": [
    {
     "name": "stdout",
     "output_type": "stream",
     "text": [
      "{'banana', 'apple', 'cherry'}\n",
      "{'banana', 'watermalon', 'apple', 'cherry'}\n",
      "{'banana', 'lemon', 'orange', 'apple', 'cherry', 'watermalon'}\n"
     ]
    }
   ],
   "source": [
    "# 集合是无序和无索引的集合。在 Python 中，集合用花括号编写\n",
    "thisset = {\"apple\", \"banana\", \"cherry\"}\n",
    "print(thisset)\n",
    "# 要将一个项添加到集合，请使用 add() 方法\n",
    "thisset.add(\"watermalon\")\n",
    "print(thisset)\n",
    "# 使用 update() 方法将多个项添加到集合中\n",
    "thisset.update([\"orange\",\"lemon\"])\n",
    "print(thisset)\n",
    "# 除此之外还有clear、del、remove、pop等方法的使用"
   ]
  },
  {
   "cell_type": "code",
   "execution_count": null,
   "metadata": {},
   "outputs": [
    {
     "name": "stdout",
     "output_type": "stream",
     "text": [
      "{'brand': 'Porsche', 'model': '911', 'year': 1963}\n",
      "911\n",
      "2019\n",
      "brand\n",
      "model\n",
      "year\n",
      "Porsche\n",
      "911\n",
      "2019\n",
      "Porsche\n",
      "911\n",
      "2019\n",
      "brand Porsche\n",
      "model 911\n",
      "year 2019\n",
      "{'father': {'name': 'aa', 'age': 50}, 'mother': {'name': 'bb', 'age': 50}, 'child': {'name': 'cc', 'year': 20}}\n",
      "{'family1': {'father': {'name': 'aa', 'age': 50}, 'mother': {'name': 'bb', 'age': 50}, 'child': {'name': 'cc', 'year': 20}}, 'family2': {'father': {'name': 'AA', 'age': 50}, 'mother': {'name': 'BB', 'age': 50}, 'child': {'name': 'CC', 'year': 20}}}\n",
      "{'brand': 'Porsche', 'model': '911', 'year': 1963}\n"
     ]
    }
   ],
   "source": [
    "# 字典是一个无序、可变和有索引的集合。在 Python 中，字典用花括号编写，拥有键和值。有点类似map()。\n",
    "# 创建字典\n",
    "thisdict =\t{\n",
    "  \"brand\": \"Porsche\",\n",
    "  \"model\": \"911\",\n",
    "  \"year\": 1963\n",
    "}\n",
    "print(thisdict)\n",
    "# 获取对应的键值\n",
    "x = thisdict[\"model\"]\n",
    "print(x)\n",
    "# 更改值\n",
    "thisdict[\"year\"] = 2019\n",
    "print(thisdict.get(\"year\"))\n",
    "# 遍历字典中的键名\n",
    "for x in thisdict:\n",
    "  print(x)\n",
    "# 遍历字典中的键值\n",
    "for x in thisdict:\n",
    "  print(thisdict[x])\n",
    "  # 还可以用values()遍历\n",
    "for x in thisdict.values():\n",
    "  print(x)\n",
    "# 使用 items() 函数遍历键和值\n",
    "for x, y in thisdict.items():\n",
    "  print(x, y)\n",
    "\n",
    "# 除此之外，同样还有clear、del、remove、pop等方法的使用。\n",
    "  \n",
    "# 词典也可以包含许多词典，这被称为嵌套词典。\n",
    "# 包含三个字典的字典\n",
    "myfamily = {\n",
    "  \"father\" : {\n",
    "    \"name\" : \"aa\",\n",
    "    \"age\" : 50\n",
    "  },\n",
    "  \"mother\" : {\n",
    "    \"name\" : \"bb\",\n",
    "    \"age\" : 50\n",
    "  },\n",
    "  \"child\" : {\n",
    "    \"name\" : \"cc\",\n",
    "    \"year\" : 20\n",
    "  }\n",
    "}\n",
    "youfamaily = {\n",
    "  \"father\" : {\n",
    "    \"name\" : \"AA\",\n",
    "    \"age\" : 50\n",
    "  },\n",
    "  \"mother\" : {\n",
    "    \"name\" : \"BB\",\n",
    "    \"age\" : 50\n",
    "  },\n",
    "  \"child\" : {\n",
    "    \"name\" : \"CC\",\n",
    "    \"year\" : 20\n",
    "  }\n",
    "}\n",
    "print(myfamily)\n",
    "# 也可以分别创建字典最后封装\n",
    "familys = {\n",
    "  \"family1\" : myfamily,\n",
    "  \"family2\" : youfamaily\n",
    "}\n",
    "print(familys)\n",
    "\n",
    "# dict()构造函数\n",
    "thisdict = dict(brand=\"Porsche\", model=\"911\", year=1963)\n",
    "# 请注意，关键字不是字符串字面量\n",
    "# 请注意，使用了等号而不是冒号来赋值\n",
    "print(thisdict)"
   ]
  },
  {
   "attachments": {
    "diffrences.webp": {
     "image/webp": "[encoded data removed]"
    }
   },
   "cell_type": "markdown",
   "metadata": {},
   "source": [
    "![diffrences.webp](attachment:diffrences.webp)"
   ]
  },
  {
   "cell_type": "code",
   "execution_count": null,
   "metadata": {},
   "outputs": [
    {
     "name": "stdout",
     "output_type": "stream",
     "text": [
      "Porsche\n",
      "Audi\n",
      "Audi\n",
      "Volvo\n",
      "BMW\n"
     ]
    },
    {
     "data": {
      "text/plain": [
       "['Volvo', 'BMW', 'Jeep']"
      ]
     },
     "metadata": {},
     "output_type": "display_data"
    }
   ],
   "source": [
    "# 数组\n",
    "# 学过编程的对这个应该比较熟悉。\n",
    "cars = [\"Porsche\", \"Volvo\", \"BMW\"]\n",
    "x = cars[0]\n",
    "# 重新修改0处的值\n",
    "cars[0] = \"Audi\"\n",
    "y = cars[0]\n",
    "print(x)\n",
    "print(y)\n",
    "# 查看数组长度\n",
    "len(cars)\n",
    "# 循环遍历数组元素\n",
    "for x in cars:\n",
    "    print(x)\n",
    "# 添加某个元素\n",
    "cars.append(\"Jeep\")\n",
    "# 删除某个元素\n",
    "cars.remove(\"Audi\")\n",
    "cars"
   ]
  },
  {
   "cell_type": "code",
   "execution_count": null,
   "metadata": {},
   "outputs": [
    {
     "name": "stdout",
     "output_type": "stream",
     "text": [
      "150 130 220 0\n",
      "130 < 150 < 220\n"
     ]
    }
   ],
   "source": [
    "# 条件和 If 语句，这部分和其他编程语言大同小异，以一个例子带过\n",
    "# 通过if语句比较三个数的大小，并通过正确顺序输出\n",
    "a, b, c = 150, 130, 220\n",
    "t = int()\n",
    "print(a,b,c,t)\n",
    "if a > b:\n",
    "    t = b\n",
    "    b = a\n",
    "    a = t\n",
    "if b > c:\n",
    "    t = c\n",
    "    c = b\n",
    "    b = t\n",
    "if a > c:\n",
    "    t = c\n",
    "    c = a\n",
    "    a = t\n",
    "print(a,\"<\",b,\"<\",c)"
   ]
  },
  {
   "cell_type": "code",
   "execution_count": null,
   "metadata": {},
   "outputs": [
    {
     "name": "stdout",
     "output_type": "stream",
     "text": [
      "恭喜玩家你赢了\n"
     ]
    }
   ],
   "source": [
    "# 和计算机玩石头剪刀布，理解判断语句\n",
    "\n",
    "import random  # 随机模块\n",
    " \n",
    "player = int(input(\"请输入（0-剪刀  1-石头 2-布）\"))  # 玩家输入\n",
    "computer = random.randint(0,2)   # 0-2之间随机产生一个数作为电脑的输入\n",
    " \n",
    "if (player == 0 and computer == 2) or (player == 1 and computer == 0) or (player == 2 and computer == 1):\n",
    "    print(\"恭喜玩家你赢了\")  # 加上小括号\n",
    "elif (player == 0 and computer == 0) or (player == 1 and computer == 1) or (player == 2 and computer == 2):\n",
    "    print(\"平局\")\n",
    "else:\n",
    "    print(\"很可惜，你输了\")"
   ]
  },
  {
   "cell_type": "code",
   "execution_count": null,
   "metadata": {},
   "outputs": [
    {
     "name": "stdout",
     "output_type": "stream",
     "text": [
      "1\n",
      "2\n",
      "3\n",
      "4\n",
      "5\n",
      "6\n",
      "12\n"
     ]
    }
   ],
   "source": [
    "# While循环,7以内的偶数和。\n",
    "i = 1\n",
    "sum =0\n",
    "while i < 7:\n",
    "  print(i)\n",
    "  if (i+1)%2 == 0:\n",
    "    i += 1\n",
    "    continue # 跳出本次循环\n",
    "  if (i+1)%2 == 1:\n",
    "    sum += i\n",
    "    i += 1\n",
    "print(sum)"
   ]
  },
  {
   "cell_type": "code",
   "execution_count": null,
   "metadata": {},
   "outputs": [
    {
     "name": "stdout",
     "output_type": "stream",
     "text": [
      "3\n",
      "9\n",
      "15\n",
      "21\n",
      "27\n",
      "33\n",
      "39\n",
      "45\n",
      "apple\n",
      "cherry\n"
     ]
    }
   ],
   "source": [
    "# for循环用于迭代序列（即列表，元组，字典，集合或字符串）\n",
    "# 遍历从3到50的数，增量为6\n",
    "for x in range(3, 50, 6):\n",
    "  print(x)\n",
    "# 不打印香蕉\n",
    "fruits = [\"apple\", \"banana\", \"cherry\"]\n",
    "for x in fruits:\n",
    "  if x == \"banana\":\n",
    "    continue\n",
    "  print(x)"
   ]
  },
  {
   "cell_type": "code",
   "execution_count": null,
   "metadata": {},
   "outputs": [
    {
     "name": "stdout",
     "output_type": "stream",
     "text": [
      "Hello from a function\n",
      "Bill Gates\n",
      "Steve Gates\n",
      "Elon Gates\n",
      "I am from Sweden\n",
      "I am from India\n",
      "I am from China\n",
      "I am from Brazil\n",
      "apple\n",
      "banana\n",
      "cherry\n",
      "15\n",
      "25\n",
      "45\n",
      "('清风', '3.4', 'china')\n",
      "120\n"
     ]
    }
   ],
   "source": [
    "# 函数\n",
    "# 在Python中，使用def关键字定义函数：\n",
    "def my_function():\n",
    "  print(\"Hello from a function\")\n",
    "# 调用函数\n",
    "my_function()\n",
    "# 带参函数\n",
    "def my_function1(fname):\n",
    "  print(fname + \" Gates\")\n",
    "\n",
    "my_function1(\"Bill\")\n",
    "my_function1(\"Steve\")\n",
    "my_function1(\"Elon\")\n",
    "# 设置默认参数，无参时调用默认参\n",
    "def my_function2(country = \"China\"):\n",
    "  print(\"I am from \" + country)\n",
    "\n",
    "my_function2(\"Sweden\")\n",
    "my_function2(\"India\")\n",
    "# 使用默认参\n",
    "my_function2()\n",
    "my_function2(\"Brazil\")\n",
    "\n",
    "# List传参\n",
    "def my_food(food):\n",
    "  for x in food:\n",
    "    print(x)\n",
    "\n",
    "fruits = [\"apple\", \"banana\", \"cherry\"]\n",
    "\n",
    "my_food(fruits)\n",
    "\n",
    "# 返回值\n",
    "def calculate(x):\n",
    "  return 5 * x\n",
    "\n",
    "print(calculate(3))\n",
    "print(calculate(5))\n",
    "print(calculate(9))\n",
    "\n",
    "# 任意参数，如果参数数目未知，请在参数名称前添加 *\n",
    "def demo(*A):\n",
    "  print(A)\n",
    "demo(\"清风\",\"3.4\",\"china\")\n",
    "\n",
    "# 递归\n",
    "# 经典求阶乘\n",
    "def factorial(n):\n",
    "    ''' n表示要求的数的阶乘 '''\n",
    "    if n==1:\n",
    "        return n # 阶乘为1的时候，结果为1,返回结果并退出\n",
    "    n = n*factorial(n-1) # n! = n*(n-1)!\n",
    "    return n  # 返回结果并退出\n",
    "res = factorial(5) #调用函数，并将返回的结果赋给res\n",
    "print(res) # 打印结果"
   ]
  },
  {
   "cell_type": "code",
   "execution_count": null,
   "metadata": {},
   "outputs": [
    {
     "name": "stdout",
     "output_type": "stream",
     "text": [
      "15\n",
      "13\n",
      "22\n",
      "33\n"
     ]
    }
   ],
   "source": [
    "# Lambda函数，ambda 函数在 Python 编程语言中使用频率非常高，使用起来非常灵活、巧妙\n",
    "# lambda arguments : expression\n",
    "x = lambda a : a + 10\n",
    "print(x(5))\n",
    "# 一个简单的函数，前面是形参，后面是参数运算。\n",
    "y = lambda a, b, c : a + b + c\n",
    "print(y(5, 6, 2))\n",
    "# 带参，可以使用相同的函数生成两个不同的函数。\n",
    "def myfunc(n):\n",
    "  return lambda a : a * n\n",
    "mydoubler = myfunc(2)\n",
    "mydoubler1 = myfunc(3)\n",
    "print(mydoubler(11))\n",
    "print(mydoubler1(11))"
   ]
  },
  {
   "cell_type": "code",
   "execution_count": null,
   "metadata": {},
   "outputs": [
    {
     "name": "stdout",
     "output_type": "stream",
     "text": [
      "Porsche\n",
      "Audi\n",
      "Audi\n",
      "Volvo\n",
      "BMW\n"
     ]
    },
    {
     "data": {
      "text/plain": [
       "['Volvo', 'BMW', 'Jeep']"
      ]
     },
     "execution_count": 10,
     "metadata": {},
     "output_type": "execute_result"
    }
   ],
   "source": [
    "# 数组\n",
    "# 学过编程的对这个应该比较熟悉。\n",
    "cars = [\"Porsche\", \"Volvo\", \"BMW\"]\n",
    "x = cars[0]\n",
    "# 重新修改0处的值\n",
    "cars[0] = \"Audi\"\n",
    "y = cars[0]\n",
    "print(x)\n",
    "print(y)\n",
    "# 查看数组长度\n",
    "len(cars)\n",
    "# 循环遍历数组元素\n",
    "for x in cars:\n",
    "    print(x)\n",
    "# 添加某个元素\n",
    "cars.append(\"Jeep\")\n",
    "# 删除某个元素\n",
    "cars.remove(\"Audi\")\n",
    "cars"
   ]
  },
  {
   "attachments": {
    "数组方法.png": {
     "image/png": "[encoded data removed]"
    }
   },
   "cell_type": "markdown",
   "metadata": {},
   "source": [
    "![数组方法.png](attachment:数组方法.png)"
   ]
  },
  {
   "cell_type": "code",
   "execution_count": null,
   "metadata": {},
   "outputs": [
    {
     "name": "stdout",
     "output_type": "stream",
     "text": [
      "Hello my name is Bill\n",
      "I'm 63\n"
     ]
    }
   ],
   "source": [
    "# class类\n",
    "# 学过面向对象编程应该会比较熟悉，用一个例子你就明白了。\n",
    "class Person:\n",
    "  # self 参数是对类的当前实例的引用，用于访问属于该类的变量。\n",
    "  def __init__(self, name, age): \n",
    "    self.name = name\n",
    "    self.age = age\n",
    "\n",
    "  def myfunc(self):\n",
    "    print(\"Hello my name is \" + self.name)\n",
    "    print(\"I'm\" + \" \" + str(self.age))\n",
    "\n",
    "# 创建person对象p1\n",
    "p1 = Person(\"Bill\", 63)\n",
    "# 类名.方法调用\n",
    "p1.myfunc()\n"
   ]
  },
  {
   "cell_type": "code",
   "execution_count": null,
   "metadata": {},
   "outputs": [
    {
     "name": "stdout",
     "output_type": "stream",
     "text": [
      "1\n",
      "Hello my name is Elon\n",
      "I'm 50\n"
     ]
    }
   ],
   "source": [
    "# 类的继承\n",
    "# 也用一个例子来讲\n",
    "# 括号里是父类person\n",
    "class Student(Person):\n",
    "     def __init__(self, name, age, team):\n",
    "          # 父类的属性\n",
    "          super().__init__(name, age)\n",
    "          # 子类新建属性\n",
    "          self.team = team\n",
    "     def myfunc(self):\n",
    "          # super自动继承父类的元素和方法,如果您在子类中添加一个与父类中的函数同名的方法，则将覆盖父方法的继承。\n",
    "          super().myfunc()\n",
    "x = Student(\"Elon\", 50 ,1)\n",
    "print(x.team)\n",
    "x.myfunc()"
   ]
  },
  {
   "cell_type": "code",
   "execution_count": null,
   "metadata": {},
   "outputs": [
    {
     "name": "stdout",
     "output_type": "stream",
     "text": [
      "apple\n",
      "banana\n",
      "cherry\n"
     ]
    }
   ],
   "source": [
    "# Python 迭代器\n",
    "# 列表、元组、字典和集合都是可迭代的对象。它们是可迭代的容器，您可以从中获取迭代器（Iterator）。所有这些对象都有用于获取迭代器的 iter() 方法\n",
    "mytuple = (\"apple\", \"banana\", \"cherry\")\n",
    "myit = iter(mytuple)\n",
    "print(next(myit))\n",
    "print(next(myit))\n",
    "print(next(myit))"
   ]
  },
  {
   "cell_type": "code",
   "execution_count": 11,
   "metadata": {},
   "outputs": [
    {
     "name": "stdout",
     "output_type": "stream",
     "text": [
      "Hello, Chace\n",
      "63\n",
      "Bill\n",
      "Windows\n"
     ]
    }
   ],
   "source": [
    "# python模块\n",
    "\n",
    "# 在greeting.py中写入如下代码\n",
    "# def greeting(name):\n",
    "#   print(\"Hello, \" + name)\n",
    "# person1 = {\n",
    "#   \"name\": \"Bill\",\n",
    "#   \"age\": 63,\n",
    "#   \"country\": \"USA\"\n",
    "# }  \n",
    "\n",
    "# 使用import导入此module\n",
    "import greeting\n",
    "greeting.greeting(\"Chace\")\n",
    "\n",
    "a = greeting.person1[\"age\"]\n",
    "print(a)\n",
    "\n",
    "# 使用as为module创建别名\n",
    "import greeting as hello\n",
    "b = hello.person1[\"name\"]\n",
    "print(b)\n",
    "\n",
    "# 除此之外还有很多python内置模块"
   ]
  },
  {
   "cell_type": "code",
   "execution_count": 14,
   "metadata": {},
   "outputs": [
    {
     "name": "stdout",
     "output_type": "stream",
     "text": [
      "Now the file has more content!\n"
     ]
    }
   ],
   "source": [
    "# Python文件处理\n",
    "# Python 有几个用于创建、读取、更新和删除文件的函数。\n",
    "\n",
    "# 打开文件，open() 函数有两个参数：文件名和权限（见下图）。\n",
    "f = open(\"demofile.txt\",\"r\")\n",
    "\n",
    "# 读取文件，read() 函数\n",
    "print(f.read())\n",
    "# 关闭文件，close() 函数\n",
    "f.close()\n",
    "# 写入文件，write() 函数,会对文件进行覆盖\n",
    "f = open(\"demofile.txt\",\"w\")\n",
    "f.write(\"Now the file has more content!\")\n",
    "f.close()\n",
    "\n",
    "# 删除文件必须导入os模块。\n",
    "import os\n",
    "os.remove(\"demofile.txt\")"
   ]
  },
  {
   "attachments": {
    "文件权限.png": {
     "image/png": "[encoded data removed]"
    }
   },
   "cell_type": "markdown",
   "metadata": {},
   "source": [
    "![文件权限.png](attachment:文件权限.png)"
   ]
  }
 ],
 "metadata": {
  "kernelspec": {
   "display_name": "Python 3",
   "language": "python",
   "name": "python3"
  },
  "language_info": {
   "codemirror_mode": {
    "name": "ipython",
    "version": 3
   },
   "file_extension": ".py",
   "mimetype": "text/x-python",
   "name": "python",
   "nbconvert_exporter": "python",
   "pygments_lexer": "ipython3",
   "version": "3.11.4"
  }
 },
 "nbformat": 4,
 "nbformat_minor": 2
}
